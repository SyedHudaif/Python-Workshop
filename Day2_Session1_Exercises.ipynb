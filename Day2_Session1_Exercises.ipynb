{
  "nbformat": 4,
  "nbformat_minor": 0,
  "metadata": {
    "colab": {
      "name": "Day2_Session1_Exercises.ipynb",
      "provenance": [],
      "authorship_tag": "ABX9TyPRUwZNJstH6stgMm2zT4sw",
      "include_colab_link": true
    },
    "kernelspec": {
      "name": "python3",
      "display_name": "Python 3"
    }
  },
  "cells": [
    {
      "cell_type": "markdown",
      "metadata": {
        "id": "view-in-github",
        "colab_type": "text"
      },
      "source": [
        "<a href=\"https://colab.research.google.com/github/SyedHudaif/Python-Workshop/blob/master/Day2_Session1_Exercises.ipynb\" target=\"_parent\"><img src=\"https://colab.research.google.com/assets/colab-badge.svg\" alt=\"Open In Colab\"/></a>"
      ]
    },
    {
      "cell_type": "markdown",
      "metadata": {
        "id": "k0JXAbzUBe76",
        "colab_type": "text"
      },
      "source": [
        "#List Exercises\n",
        "\n",
        "#Print multiples of 3 upto 200 using a list"
      ]
    },
    {
      "cell_type": "code",
      "metadata": {
        "id": "IX1LEoU8BqwQ",
        "colab_type": "code",
        "colab": {
          "base_uri": "https://localhost:8080/",
          "height": 60
        },
        "outputId": "4a90dd76-69c1-4628-9e10-7db701833488"
      },
      "source": [
        "a = [i for i in range(0,200) if i%3==0]\n",
        "print(a)"
      ],
      "execution_count": 1,
      "outputs": [
        {
          "output_type": "stream",
          "text": [
            "[0, 3, 6, 9, 12, 15, 18, 21, 24, 27, 30, 33, 36, 39, 42, 45, 48, 51, 54, 57, 60, 63, 66, 69, 72, 75, 78, 81, 84, 87, 90, 93, 96, 99, 102, 105, 108, 111, 114, 117, 120, 123, 126, 129, 132, 135, 138, 141, 144, 147, 150, 153, 156, 159, 162, 165, 168, 171, 174, 177, 180, 183, 186, 189, 192, 195, 198]\n"
          ],
          "name": "stdout"
        }
      ]
    },
    {
      "cell_type": "markdown",
      "metadata": {
        "id": "poCRqf_YB0S-",
        "colab_type": "text"
      },
      "source": [
        "#print the nos only divisable by 5 and 7 between 1000 and 2000 using a list( both inclusive)"
      ]
    },
    {
      "cell_type": "code",
      "metadata": {
        "id": "lX20ZE-TB223",
        "colab_type": "code",
        "colab": {
          "base_uri": "https://localhost:8080/",
          "height": 60
        },
        "outputId": "a4df5c73-f054-429c-b1fe-368926425345"
      },
      "source": [
        "a = [i for i in range(1000,2000) if i%5==0 and i%7==0]\n",
        "print(a)"
      ],
      "execution_count": 2,
      "outputs": [
        {
          "output_type": "stream",
          "text": [
            "[1015, 1050, 1085, 1120, 1155, 1190, 1225, 1260, 1295, 1330, 1365, 1400, 1435, 1470, 1505, 1540, 1575, 1610, 1645, 1680, 1715, 1750, 1785, 1820, 1855, 1890, 1925, 1960, 1995]\n"
          ],
          "name": "stdout"
        }
      ]
    },
    {
      "cell_type": "markdown",
      "metadata": {
        "id": "6JCzDTRkB614",
        "colab_type": "text"
      },
      "source": [
        "#Add the n number of names in a list and print them alphabetically and reverse alphabetically."
      ]
    },
    {
      "cell_type": "code",
      "metadata": {
        "id": "og8vgq6sB-uL",
        "colab_type": "code",
        "colab": {
          "base_uri": "https://localhost:8080/",
          "height": 176
        },
        "outputId": "1442d82b-f017-4a91-e5af-6dab608a895a"
      },
      "source": [
        "l = []\n",
        "b=[]\n",
        "n =int(input(\"Enter the size\"))\n",
        "for i in range(n):\n",
        "  a = str(input())\n",
        "  l.append(a)\n",
        "b = sorted(l)\n",
        "print(sorted(l))\n",
        "print(b[::-1])"
      ],
      "execution_count": 3,
      "outputs": [
        {
          "output_type": "stream",
          "text": [
            "Enter the size4\n",
            "zlatan\n",
            "leo\n",
            "hudaif\n",
            "kaif\n",
            "['hudaif', 'kaif', 'leo', 'zlatan']\n",
            "['zlatan', 'leo', 'kaif', 'hudaif']\n"
          ],
          "name": "stdout"
        }
      ]
    },
    {
      "cell_type": "markdown",
      "metadata": {
        "id": "DPZHKcdECTDS",
        "colab_type": "text"
      },
      "source": [
        "#Print perfect squares and divisible by 5 between 500 and 1000( (both inclusive) using list"
      ]
    },
    {
      "cell_type": "code",
      "metadata": {
        "id": "YqWoZk_iCXht",
        "colab_type": "code",
        "colab": {
          "base_uri": "https://localhost:8080/",
          "height": 40
        },
        "outputId": "99cad82e-bf45-4b6e-a295-3e897d910e60"
      },
      "source": [
        "a =[]\n",
        "for i in range(500,1000):\n",
        "  j =1\n",
        "  while j*j <=i:\n",
        "    if j*j == i:\n",
        "      a.append(i)\n",
        "    j =j+1\n",
        "  i =i+1\n",
        "b = []\n",
        "for i in a:\n",
        "  if(i%5==0):\n",
        "    b.append(i)\n",
        "print(b)"
      ],
      "execution_count": 4,
      "outputs": [
        {
          "output_type": "stream",
          "text": [
            "[625, 900]\n"
          ],
          "name": "stdout"
        }
      ]
    },
    {
      "cell_type": "markdown",
      "metadata": {
        "id": "0P1soFCdCg9j",
        "colab_type": "text"
      },
      "source": [
        "#Tuples\n",
        "\n",
        "#Get a string and store word by word as elements in a tuple and find the largest word in the tuple and print it"
      ]
    },
    {
      "cell_type": "code",
      "metadata": {
        "id": "EtfUkk2mDhQ4",
        "colab_type": "code",
        "colab": {
          "base_uri": "https://localhost:8080/",
          "height": 40
        },
        "outputId": "c3de93d2-ffa4-4960-8617-755c23b2a53e"
      },
      "source": [
        "s = \"python is good\"\n",
        "a = s.split()\n",
        "t = tuple(i for i in a)\n",
        "print(max(t))"
      ],
      "execution_count": 10,
      "outputs": [
        {
          "output_type": "stream",
          "text": [
            "python\n"
          ],
          "name": "stdout"
        }
      ]
    },
    {
      "cell_type": "markdown",
      "metadata": {
        "id": "dY79hLPRDkYr",
        "colab_type": "text"
      },
      "source": [
        "#Get rollno and marks (Rollno, mark) as list of tuples for n number of students through keyboard and print them in marks descending order with rollno."
      ]
    },
    {
      "cell_type": "code",
      "metadata": {
        "id": "fxyzMK7tDoZd",
        "colab_type": "code",
        "colab": {
          "base_uri": "https://localhost:8080/",
          "height": 244
        },
        "outputId": "bc19366c-afe0-4afc-b501-4c2a77b0d66d"
      },
      "source": [
        "print(sorted([(input(\"Enter rollno: \"), input(\"Enter marks: \")) for i in range(int(input(\"Enter number of students\")))], key=lambda x: x[1],reverse=True))"
      ],
      "execution_count": 13,
      "outputs": [
        {
          "output_type": "stream",
          "text": [
            "Enter number of students4\n",
            "Enter rollno: 1\n",
            "Enter marks: 67\n",
            "Enter rollno: 2\n",
            "Enter marks: 89\n",
            "Enter rollno: 3\n",
            "Enter marks: 95\n",
            "Enter rollno: 4\n",
            "Enter marks: 77\n",
            "[('3', '95'), ('2', '89'), ('4', '77'), ('1', '67')]\n"
          ],
          "name": "stdout"
        }
      ]
    },
    {
      "cell_type": "markdown",
      "metadata": {
        "id": "2SHP9iqZEG55",
        "colab_type": "text"
      },
      "source": [
        "#Get name and salary (name, salary) as list of tuples for n number of employees through keyboard and print them in name alphabetical order with salary"
      ]
    },
    {
      "cell_type": "code",
      "metadata": {
        "id": "vkrOXBtbEM1s",
        "colab_type": "code",
        "colab": {
          "base_uri": "https://localhost:8080/",
          "height": 198
        },
        "outputId": "76d2e553-2b14-406f-800b-0ec6bdadda92"
      },
      "source": [
        "print(sorted([(input(\"Enter name: \"), input(\"Enter salary: \")) for i in range(int(input(\"Enter number of employees\")))], key=lambda x: x[0]))"
      ],
      "execution_count": 14,
      "outputs": [
        {
          "output_type": "stream",
          "text": [
            "Enter number of employees3\n",
            "Enter name: zlatan\n",
            "Enter salary: 99999\n",
            "Enter name: leo\n",
            "Enter salary: 102000\n",
            "Enter name: john\n",
            "Enter salary: 89000\n",
            "[('john', '89000'), ('leo', '102000'), ('zlatan', '99999')]\n"
          ],
          "name": "stdout"
        }
      ]
    }
  ]
}