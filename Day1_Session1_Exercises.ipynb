{
  "nbformat": 4,
  "nbformat_minor": 0,
  "metadata": {
    "colab": {
      "name": "Day1_Session1_Exercises.ipynb",
      "provenance": [],
      "authorship_tag": "ABX9TyPD2ZNcS0IOtvQBOd5P5S6V",
      "include_colab_link": true
    },
    "kernelspec": {
      "name": "python3",
      "display_name": "Python 3"
    }
  },
  "cells": [
    {
      "cell_type": "markdown",
      "metadata": {
        "id": "view-in-github",
        "colab_type": "text"
      },
      "source": [
        "<a href=\"https://colab.research.google.com/github/SyedHudaif/Python-Workshop/blob/master/Day1_Session1_Exercises.ipynb\" target=\"_parent\"><img src=\"https://colab.research.google.com/assets/colab-badge.svg\" alt=\"Open In Colab\"/></a>"
      ]
    },
    {
      "cell_type": "markdown",
      "metadata": {
        "id": "IHYAqHN-kwzR",
        "colab_type": "text"
      },
      "source": [
        "\n",
        "#Find the compound interest for the given p,n,r (formula : p(1+n*r/100)n )"
      ]
    },
    {
      "cell_type": "code",
      "metadata": {
        "id": "K8psCJdrkzpU",
        "colab_type": "code",
        "colab": {
          "base_uri": "https://localhost:8080/",
          "height": 108
        },
        "outputId": "c45ec446-63bb-4ad3-a730-9b7fa21ee6dd"
      },
      "source": [
        "def compound_interest(principle, rate, time):\n",
        "       CI = principle * (pow((1 + rate / 100), time))\n",
        "       print(\"Compound interest is\", CI) \n",
        "p=int(input(\"enter p value: \")) \n",
        "n=int(input(\"enter n value: \")) \n",
        "r=float(input(\"enter r value: \")) \n",
        "compound_interest(p, r, n)"
      ],
      "execution_count": 1,
      "outputs": [
        {
          "output_type": "stream",
          "text": [
            "enter p value: 1000\n",
            "enter n value: 1\n",
            "enter r value: 9\n",
            "Compound interest is 1090.0\n"
          ],
          "name": "stdout"
        }
      ]
    },
    {
      "cell_type": "markdown",
      "metadata": {
        "id": "rCqptLlXlFuf",
        "colab_type": "text"
      },
      "source": [
        "#Convert centegrade to farenheit ( f= 9/5*c+32)"
      ]
    },
    {
      "cell_type": "code",
      "metadata": {
        "id": "h5zO-F3ilKom",
        "colab_type": "code",
        "colab": {
          "base_uri": "https://localhost:8080/",
          "height": 62
        },
        "outputId": "2ffae348-d4db-4abd-b622-58a53e71bb38"
      },
      "source": [
        "celsius = float(input(\"Enter temperature in celsius: \"))\n",
        "fahrenheit = (celsius * 9/5) + 32\n",
        "print('%.2f Celsius is: %0.2f Fahrenheit' %(celsius, fahrenheit))"
      ],
      "execution_count": 2,
      "outputs": [
        {
          "output_type": "stream",
          "text": [
            "Enter temperature in celsius: 35\n",
            "35.00 Celsius is: 95.00 Fahrenheit\n"
          ],
          "name": "stdout"
        }
      ]
    },
    {
      "cell_type": "markdown",
      "metadata": {
        "id": "FLKezxjXlZdo",
        "colab_type": "text"
      },
      "source": [
        "#Find the greater of two nos"
      ]
    },
    {
      "cell_type": "code",
      "metadata": {
        "id": "V9W8rrS7ldlv",
        "colab_type": "code",
        "colab": {
          "base_uri": "https://localhost:8080/",
          "height": 108
        },
        "outputId": "29a7c735-49ba-4a9c-800d-aba17f295b21"
      },
      "source": [
        "a=int(input(\"enter a num : \")) \n",
        "b=int(input(\"enter a num : \")) \n",
        "print(\"greater num is : \") \n",
        "if(a>b):  \n",
        "  print(a) \n",
        "else:  \n",
        "  print(b)"
      ],
      "execution_count": 3,
      "outputs": [
        {
          "output_type": "stream",
          "text": [
            "enter a num : 25\n",
            "enter a num : 67\n",
            "greater num is : \n",
            "67\n"
          ],
          "name": "stdout"
        }
      ]
    },
    {
      "cell_type": "markdown",
      "metadata": {
        "id": "tHm9AKcWloUz",
        "colab_type": "text"
      },
      "source": [
        "#Write a program for finding surface areas of cylinder and cone (2PIrrh, 1/3PIrrh) using function."
      ]
    },
    {
      "cell_type": "code",
      "metadata": {
        "id": "k9NsWqQLlvlV",
        "colab_type": "code",
        "colab": {
          "base_uri": "https://localhost:8080/",
          "height": 108
        },
        "outputId": "8089e27d-3b32-4d1f-8e14-f57f88eb2d7f"
      },
      "source": [
        "import math \n",
        "def Cylinder(r,h):  \n",
        "  return 2*math.pi*r*r*h \n",
        "def cone(r,h):  \n",
        "  return (1/3)*math.pi*r*r*h \n",
        "r=int(input(\"enter r value : \")) \n",
        "h=int(input(\"enter h value\")) \n",
        "print(\"surface area of cylinder is : %.2f\"%Cylinder(r,h)) \n",
        "print(\"surface area of cone is : %.2f \"%cone(r,h))"
      ],
      "execution_count": 4,
      "outputs": [
        {
          "output_type": "stream",
          "text": [
            "enter r value : 6\n",
            "enter h value5\n",
            "surface area of cylinder is : 1130.97\n",
            "surface area of cone is : 188.50 \n"
          ],
          "name": "stdout"
        }
      ]
    },
    {
      "cell_type": "markdown",
      "metadata": {
        "id": "Y1ntfwn3mA6S",
        "colab_type": "text"
      },
      "source": [
        "#Find the greatest of four nos ( using ‘and’ operator) using function."
      ]
    },
    {
      "cell_type": "code",
      "metadata": {
        "id": "eJdFOD30mE2i",
        "colab_type": "code",
        "colab": {
          "base_uri": "https://localhost:8080/",
          "height": 153
        },
        "outputId": "0005d33b-5c32-43a5-81cf-648a46c83f79"
      },
      "source": [
        "a=int(input(\"enter 1st num: \")) \n",
        "b=int(input(\"enter 2nd num: \")) \n",
        "c=int(input(\"enter 3rd num: \")) \n",
        "d=int(input(\"enter 4th num: \")) \n",
        "print(\"greater num is : \") \n",
        "if(a>b and a>c and a>d):  \n",
        "  print(a) \n",
        "elif(b>c and b>d):  \n",
        "  print(b) \n",
        "elif(c>d):  \n",
        "  print(c) \n",
        "else:  print(d)"
      ],
      "execution_count": 5,
      "outputs": [
        {
          "output_type": "stream",
          "text": [
            "enter 1st num: 6\n",
            "enter 2nd num: 198\n",
            "enter 3rd num: 456\n",
            "enter 4th num: 33\n",
            "greater num is : \n",
            "456\n"
          ],
          "name": "stdout"
        }
      ]
    },
    {
      "cell_type": "markdown",
      "metadata": {
        "id": "OK-fxx3ymTs2",
        "colab_type": "text"
      },
      "source": [
        "\n",
        "#Write a menu program to perform the operations ( ODDorEven, Factorial, ODDNoUptoN, PrimeUptoN ) using functions for two nos with menu choice"
      ]
    },
    {
      "cell_type": "code",
      "metadata": {
        "id": "5qYg62LamckV",
        "colab_type": "code",
        "colab": {
          "base_uri": "https://localhost:8080/",
          "height": 1000
        },
        "outputId": "188c00bf-3d6c-4d58-da4a-e78a35e13870"
      },
      "source": [
        "loop = 1 # 1 means loop; anything else means don't loop.\n",
        "choice = 0 # This variable holds the user's choice in the menu\n",
        "\n",
        "def odd(a):\n",
        "    if a%2==0:\n",
        "      print(\"Even\")\n",
        "    else:\n",
        "      print(\"Odd\") \n",
        "def factorial(a):\n",
        "    if a==1:\n",
        "      return a\n",
        "    else:\n",
        "      return a*factorial(a-1)\n",
        "def oddton(a):\n",
        "    for i in range(1,a,2):\n",
        "      print(i,end=\" \")\n",
        "def prime(upto):\n",
        "    for num in range(2, upto + 1):\n",
        "\n",
        "      i = 2\n",
        "\n",
        "      for i in range(2, num):\n",
        "          if(num % i == 0):\n",
        "              i = num\n",
        "              break;\n",
        "      if(i != num):\n",
        "          print(num, end=\" \")\n",
        "\n",
        "while loop == 1:\n",
        "    # Print what options you have\n",
        "    print (\"Choose\")\n",
        "    print (\"your options are:\")\n",
        "    print (\" \")\n",
        "    print(\"1) Odd or Even\")\n",
        "    print(\"2) Factorial\")\n",
        "    print(\"3) Odd upto N\")\n",
        "    print(\"4) Prime upto N\")\n",
        "    print(\"5) Quit\")\n",
        "    print(\" \")\n",
        "    try:\n",
        "        choice = int(input(\"Choose your option: \"))\n",
        "    except:\n",
        "        print('please enter a valid number for option')\n",
        "    print(\" \")\n",
        "    print(\" \")\n",
        "    if choice == 1:\n",
        "        a = int(input(\"Enter no: \"))\n",
        "        print(odd(a))\n",
        "    elif choice == 2:\n",
        "        a = int(input(\"Enter no: \"))\n",
        "        print(factorial(a))\n",
        "    elif choice == 3:\n",
        "        a = int(input(\"Enter no: \"))\n",
        "        print(\"answer is \",oddton(a))\n",
        "    elif choice == 4:\n",
        "        a = int(input(\"Enter no: \"))\n",
        "        #b = int(input(\"Enter no: \"))\n",
        "        print(prime(a))    \n",
        "    elif choice == 5:\n",
        "        loop = 0  \n",
        "    else:\n",
        "        print(\"please choice a valid option from 1 to 5\")\n",
        "        choice=0\n",
        "print (\"Thank-you!\")"
      ],
      "execution_count": 9,
      "outputs": [
        {
          "output_type": "stream",
          "text": [
            "Choose\n",
            "your options are:\n",
            " \n",
            "1) Odd or Even\n",
            "2) Factorial\n",
            "3) Odd upto N\n",
            "4) Prime upto N\n",
            "5) Quit\n",
            " \n",
            "Choose your option: 4\n",
            " \n",
            " \n",
            "Enter no: 15\n",
            "3 5 7 11 13 None\n",
            "Choose\n",
            "your options are:\n",
            " \n",
            "1) Odd or Even\n",
            "2) Factorial\n",
            "3) Odd upto N\n",
            "4) Prime upto N\n",
            "5) Quit\n",
            " \n",
            "Choose your option: 1\n",
            " \n",
            " \n",
            "Enter no: 9\n",
            "Odd\n",
            "None\n",
            "Choose\n",
            "your options are:\n",
            " \n",
            "1) Odd or Even\n",
            "2) Factorial\n",
            "3) Odd upto N\n",
            "4) Prime upto N\n",
            "5) Quit\n",
            " \n",
            "Choose your option: 3\n",
            " \n",
            " \n",
            "Enter no: 10\n",
            "1 3 5 7 9 answer is  None\n",
            "Choose\n",
            "your options are:\n",
            " \n",
            "1) Odd or Even\n",
            "2) Factorial\n",
            "3) Odd upto N\n",
            "4) Prime upto N\n",
            "5) Quit\n",
            " \n",
            "Choose your option: 5\n",
            " \n",
            " \n",
            "Thank-you!\n"
          ],
          "name": "stdout"
        }
      ]
    }
  ]
}