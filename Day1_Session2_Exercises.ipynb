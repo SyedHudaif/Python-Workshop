{
  "nbformat": 4,
  "nbformat_minor": 0,
  "metadata": {
    "colab": {
      "name": "Day1_Session2_Exercises.ipynb",
      "provenance": [],
      "authorship_tag": "ABX9TyPc1QMHx7Bfbm77HdjmpfgE",
      "include_colab_link": true
    },
    "kernelspec": {
      "name": "python3",
      "display_name": "Python 3"
    }
  },
  "cells": [
    {
      "cell_type": "markdown",
      "metadata": {
        "id": "view-in-github",
        "colab_type": "text"
      },
      "source": [
        "<a href=\"https://colab.research.google.com/github/SyedHudaif/Python-Workshop/blob/master/Day1_Session2_Exercises.ipynb\" target=\"_parent\"><img src=\"https://colab.research.google.com/assets/colab-badge.svg\" alt=\"Open In Colab\"/></a>"
      ]
    },
    {
      "cell_type": "markdown",
      "metadata": {
        "id": "t7aI6UJ4wiGj",
        "colab_type": "text"
      },
      "source": [
        "# Write a program to print the triangle"
      ]
    },
    {
      "cell_type": "code",
      "metadata": {
        "id": "Di-HCguIxI8c",
        "colab_type": "code",
        "colab": {
          "base_uri": "https://localhost:8080/",
          "height": 130
        },
        "outputId": "344b481a-5ad9-4f45-fbd4-cc0e2c2b435a"
      },
      "source": [
        "rows = 4\n",
        "for i in range(0, rows+1):\n",
        "    for j in range(i, i+i , 1):\n",
        "        print(j, end=' ')\n",
        "    print()"
      ],
      "execution_count": 1,
      "outputs": [
        {
          "output_type": "stream",
          "text": [
            "\n",
            "1 \n",
            "2 3 \n",
            "3 4 5 \n",
            "4 5 6 7 \n"
          ],
          "name": "stdout"
        }
      ]
    },
    {
      "cell_type": "code",
      "metadata": {
        "id": "iG_ZVZihxlFr",
        "colab_type": "code",
        "colab": {
          "base_uri": "https://localhost:8080/",
          "height": 130
        },
        "outputId": "0bd6a7a8-e59b-4842-fb49-33019e8557c8"
      },
      "source": [
        "rows = 4\n",
        "for i in range(0, rows+1):\n",
        "    for j in range(i, i+i , 1):\n",
        "        print('*', end=' ')\n",
        "    print()\n"
      ],
      "execution_count": 2,
      "outputs": [
        {
          "output_type": "stream",
          "text": [
            "\n",
            "* \n",
            "* * \n",
            "* * * \n",
            "* * * * \n"
          ],
          "name": "stdout"
        }
      ]
    },
    {
      "cell_type": "code",
      "metadata": {
        "id": "W9goG-OuxoGP",
        "colab_type": "code",
        "colab": {
          "base_uri": "https://localhost:8080/",
          "height": 130
        },
        "outputId": "7b33f6d6-9e35-467e-d5a1-60d2cadc4513"
      },
      "source": [
        "rows = 5\n",
        "for i in range(0, rows):\n",
        "    for j in range(rows-i , rows+1 , 1):\n",
        "        print(j, end=' ')\n",
        "    print()"
      ],
      "execution_count": 3,
      "outputs": [
        {
          "output_type": "stream",
          "text": [
            "5 \n",
            "4 5 \n",
            "3 4 5 \n",
            "2 3 4 5 \n",
            "1 2 3 4 5 \n"
          ],
          "name": "stdout"
        }
      ]
    },
    {
      "cell_type": "code",
      "metadata": {
        "id": "3aw5_cA0xrMz",
        "colab_type": "code",
        "colab": {
          "base_uri": "https://localhost:8080/",
          "height": 153
        },
        "outputId": "29048b92-1e15-4606-d458-9d2f02e5bd28"
      },
      "source": [
        "rows = 5\n",
        "for i in range(0, rows+1):\n",
        "    for j in range(rows-i, 0 , -1):\n",
        "        print(j, end=' ')\n",
        "    print()"
      ],
      "execution_count": 4,
      "outputs": [
        {
          "output_type": "stream",
          "text": [
            "5 4 3 2 1 \n",
            "4 3 2 1 \n",
            "3 2 1 \n",
            "2 1 \n",
            "1 \n",
            "\n"
          ],
          "name": "stdout"
        }
      ]
    },
    {
      "cell_type": "code",
      "metadata": {
        "id": "UbfBipw0xtaZ",
        "colab_type": "code",
        "colab": {
          "base_uri": "https://localhost:8080/",
          "height": 176
        },
        "outputId": "5e7e5ceb-283c-4fd2-d99f-ff1f86011716"
      },
      "source": [
        "rows = 4\n",
        "for i in range(1, rows+1):\n",
        "    for j in range(i, rows+1 , 1):\n",
        "        print(j, end=' ')\n",
        "    print()\n",
        "for i in range(1,rows):\n",
        "  for j in range(rows-i,rows+1,1):\n",
        "    print(j,end=\" \")\n",
        "  print()"
      ],
      "execution_count": 5,
      "outputs": [
        {
          "output_type": "stream",
          "text": [
            "1 2 3 4 \n",
            "2 3 4 \n",
            "3 4 \n",
            "4 \n",
            "3 4 \n",
            "2 3 4 \n",
            "1 2 3 4 \n"
          ],
          "name": "stdout"
        }
      ]
    },
    {
      "cell_type": "markdown",
      "metadata": {
        "id": "xRZChDl3xyFO",
        "colab_type": "text"
      },
      "source": [
        "#Find the length of a string without using len functions"
      ]
    },
    {
      "cell_type": "code",
      "metadata": {
        "id": "thLyvjiQx4R4",
        "colab_type": "code",
        "colab": {
          "base_uri": "https://localhost:8080/",
          "height": 85
        },
        "outputId": "49904ea2-4b4e-40e0-f123-686e2214cd1a"
      },
      "source": [
        "string=str(input(\"Enter string:\"))\n",
        "count=0\n",
        "for i in string:\n",
        "      count=count+1\n",
        "print(\"Length of the string is:\")\n",
        "print(count)"
      ],
      "execution_count": 6,
      "outputs": [
        {
          "output_type": "stream",
          "text": [
            "Enter string:Corona\n",
            "Length of the string is:\n",
            "6\n"
          ],
          "name": "stdout"
        }
      ]
    },
    {
      "cell_type": "markdown",
      "metadata": {
        "id": "9BVtUZbux-R_",
        "colab_type": "text"
      },
      "source": [
        "#Find the no of words and characters in a string"
      ]
    },
    {
      "cell_type": "code",
      "metadata": {
        "id": "znfJQzp9yBLh",
        "colab_type": "code",
        "colab": {
          "base_uri": "https://localhost:8080/",
          "height": 85
        },
        "outputId": "7ecaf2a4-b92f-4678-86d8-e675c99fc143"
      },
      "source": [
        "def count(s):\n",
        "  c=0\n",
        "  a=s.split()\n",
        "  v=len(a)\n",
        "  for i in a:\n",
        "    c=c+len(i)\n",
        "  print(\"word count=\",v)\n",
        "  print(\"sentence count=\",c)\n",
        "s=str(input(\"enter the string:\"))\n",
        "count(s)"
      ],
      "execution_count": 7,
      "outputs": [
        {
          "output_type": "stream",
          "text": [
            "enter the string:Hello world this is a python program\n",
            "word count= 7\n",
            "sentence count= 30\n"
          ],
          "name": "stdout"
        }
      ]
    },
    {
      "cell_type": "markdown",
      "metadata": {
        "id": "UOXsQLjHyPbu",
        "colab_type": "text"
      },
      "source": [
        "#Find the no of occurrences of a word in a string"
      ]
    },
    {
      "cell_type": "code",
      "metadata": {
        "id": "4KC8B6eZyTZo",
        "colab_type": "code",
        "colab": {
          "base_uri": "https://localhost:8080/",
          "height": 85
        },
        "outputId": "f599b024-6059-4ddc-e8a1-e8e31fbac8ab"
      },
      "source": [
        "def countOccurences(str, word): \n",
        "    a = str.split(\" \")  \n",
        "    count = 0\n",
        "    for i in range(0, len(a)):   \n",
        "        if (word == a[i]): \n",
        "           count = count + 1\n",
        "    return count        \n",
        "string =str(input(\"enter the string:\"))\n",
        "word =str(input(\"enter the word:\"))\n",
        "print(countOccurences(string, word))"
      ],
      "execution_count": 10,
      "outputs": [
        {
          "output_type": "stream",
          "text": [
            "enter the string:This is python and it is a programming language\n",
            "enter the word:is\n",
            "2\n"
          ],
          "name": "stdout"
        }
      ]
    }
  ]
}