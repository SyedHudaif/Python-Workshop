{
  "nbformat": 4,
  "nbformat_minor": 0,
  "metadata": {
    "colab": {
      "name": "Day3_Session2_PandasExamples",
      "provenance": [],
      "collapsed_sections": [],
      "toc_visible": true,
      "include_colab_link": true
    },
    "kernelspec": {
      "name": "python3",
      "display_name": "Python 3"
    }
  },
  "cells": [
    {
      "cell_type": "markdown",
      "metadata": {
        "id": "view-in-github",
        "colab_type": "text"
      },
      "source": [
        "<a href=\"https://colab.research.google.com/github/SyedHudaif/Python-Workshop/blob/master/Day3_Session2_PandasExamples.ipynb\" target=\"_parent\"><img src=\"https://colab.research.google.com/assets/colab-badge.svg\" alt=\"Open In Colab\"/></a>"
      ]
    },
    {
      "cell_type": "markdown",
      "metadata": {
        "id": "lhDJ6gOnidIr",
        "colab_type": "text"
      },
      "source": [
        "#Write a Pandas program to create and display a one-dimensional array using series  containing  even numbers upto 10"
      ]
    },
    {
      "cell_type": "code",
      "metadata": {
        "id": "ecj5LFwJifQL",
        "colab_type": "code",
        "colab": {
          "base_uri": "https://localhost:8080/",
          "height": 153
        },
        "outputId": "535faaa4-75f0-4451-cae4-ff71dd21f263"
      },
      "source": [
        "import pandas as pd\n",
        "ds = pd.Series([2, 4, 6, 8, 10]) \n",
        "print(ds)\n"
      ],
      "execution_count": 1,
      "outputs": [
        {
          "output_type": "stream",
          "text": [
            "0     2\n",
            "1     4\n",
            "2     6\n",
            "3     8\n",
            "4    10\n",
            "dtype: int64\n"
          ],
          "name": "stdout"
        }
      ]
    },
    {
      "cell_type": "markdown",
      "metadata": {
        "id": "NTZOzwqGiu-v",
        "colab_type": "text"
      },
      "source": [
        "#Write a Pandas program to convert a Panda module Series to Python list and its type."
      ]
    },
    {
      "cell_type": "code",
      "metadata": {
        "id": "Nj3CxL_fiwri",
        "colab_type": "code",
        "colab": {
          "base_uri": "https://localhost:8080/",
          "height": 266
        },
        "outputId": "ca397e70-54a7-4b2a-c399-ee93c08f625a"
      },
      "source": [
        "import pandas as pd\n",
        "ds = pd.Series([2, 4, 6, 8, 10])\n",
        "print(\"Pandas Series and type\")\n",
        "print(ds)\n",
        "print(type(ds))\n",
        "print(\"Convert Pandas Series to Python list\")\n",
        "print(ds.tolist())\n",
        "print(type(ds.tolist()))\n"
      ],
      "execution_count": 2,
      "outputs": [
        {
          "output_type": "stream",
          "text": [
            "Pandas Series and type\n",
            "0     2\n",
            "1     4\n",
            "2     6\n",
            "3     8\n",
            "4    10\n",
            "dtype: int64\n",
            "<class 'pandas.core.series.Series'>\n",
            "Convert Pandas Series to Python list\n",
            "[2, 4, 6, 8, 10]\n",
            "<class 'list'>\n"
          ],
          "name": "stdout"
        }
      ]
    },
    {
      "cell_type": "markdown",
      "metadata": {
        "id": "yHNr9PeNi2dR",
        "colab_type": "text"
      },
      "source": [
        "#Write a Pandas program to add, subtract, multiple and divide two Pandas Series.\n",
        "Sample Series: [2, 4, 6, 8, 10], [1, 3, 5, 7, 9]\n"
      ]
    },
    {
      "cell_type": "code",
      "metadata": {
        "id": "TrjF37Hki5qu",
        "colab_type": "code",
        "colab": {
          "base_uri": "https://localhost:8080/",
          "height": 652
        },
        "outputId": "40d2297f-c376-4b25-f4c2-6f51734975ca"
      },
      "source": [
        "import pandas as pd\n",
        "ds1 = pd.Series([2, 4, 6, 8, 10])\n",
        "ds2 = pd.Series([1, 3, 5, 7, 9])\n",
        "ds = ds1 + ds2\n",
        "print(\"Add two Series:\")\n",
        "print(ds)\n",
        "print(\"Subtract two Series:\")\n",
        "ds = ds1 - ds2\n",
        "print(ds)\n",
        "print(\"Multiply two Series:\")\n",
        "ds = ds1 * ds2\n",
        "print(ds)\n",
        "print(\"Divide Series1 by Series2:\")\n",
        "ds = ds1 / ds2\n",
        "print(ds)\n"
      ],
      "execution_count": 3,
      "outputs": [
        {
          "output_type": "stream",
          "text": [
            "Add two Series:\n",
            "0     3\n",
            "1     7\n",
            "2    11\n",
            "3    15\n",
            "4    19\n",
            "dtype: int64\n",
            "Subtract two Series:\n",
            "0    1\n",
            "1    1\n",
            "2    1\n",
            "3    1\n",
            "4    1\n",
            "dtype: int64\n",
            "Multiply two Series:\n",
            "0     2\n",
            "1    12\n",
            "2    30\n",
            "3    56\n",
            "4    90\n",
            "dtype: int64\n",
            "Divide Series1 by Series2:\n",
            "0    2.000000\n",
            "1    1.333333\n",
            "2    1.200000\n",
            "3    1.142857\n",
            "4    1.111111\n",
            "dtype: float64\n"
          ],
          "name": "stdout"
        }
      ]
    },
    {
      "cell_type": "markdown",
      "metadata": {
        "id": "V_wpbm0fjI3d",
        "colab_type": "text"
      },
      "source": [
        "#Write a Pandas program to compare the elements of the two Pandas Series.\n",
        "#Sample Series: [2, 4, 6, 8, 10], [1, 3, 5, 7, 9]\n"
      ]
    },
    {
      "cell_type": "code",
      "metadata": {
        "id": "UKQP-HZBjMnd",
        "colab_type": "code",
        "colab": {
          "base_uri": "https://localhost:8080/",
          "height": 833
        },
        "outputId": "87113540-e5c9-4120-f409-5df2ce046aa8"
      },
      "source": [
        "import pandas as pd\n",
        "ds1 = pd.Series([2, 4, 6, 8, 10])\n",
        "ds2 = pd.Series([1, 3, 5, 7, 10])\n",
        "print(\"Series1:\")\n",
        "print(ds1)\n",
        "print(\"Series2:\")\n",
        "print(ds2)\n",
        "print(\"Compare the elements of the said Series:\")\n",
        "print(\"Equals:\")\n",
        "print(ds1 == ds2)\n",
        "print(\"Greater than:\")\n",
        "print(ds1 > ds2)\n",
        "print(\"Less than:\")\n",
        "print(ds1 < ds2)\n"
      ],
      "execution_count": 4,
      "outputs": [
        {
          "output_type": "stream",
          "text": [
            "Series1:\n",
            "0     2\n",
            "1     4\n",
            "2     6\n",
            "3     8\n",
            "4    10\n",
            "dtype: int64\n",
            "Series2:\n",
            "0     1\n",
            "1     3\n",
            "2     5\n",
            "3     7\n",
            "4    10\n",
            "dtype: int64\n",
            "Compare the elements of the said Series:\n",
            "Equals:\n",
            "0    False\n",
            "1    False\n",
            "2    False\n",
            "3    False\n",
            "4     True\n",
            "dtype: bool\n",
            "Greater than:\n",
            "0     True\n",
            "1     True\n",
            "2     True\n",
            "3     True\n",
            "4    False\n",
            "dtype: bool\n",
            "Less than:\n",
            "0    False\n",
            "1    False\n",
            "2    False\n",
            "3    False\n",
            "4    False\n",
            "dtype: bool\n"
          ],
          "name": "stdout"
        }
      ]
    },
    {
      "cell_type": "markdown",
      "metadata": {
        "id": "ZJpFZb0bjXpd",
        "colab_type": "text"
      },
      "source": [
        "#Write a Pandas program to convert a dictionary to a Pandas series.\n",
        "#Sample dictionary: d1 = {'a': 100, 'b': 200, 'c':300, 'd':400, 'e':800}\n"
      ]
    },
    {
      "cell_type": "code",
      "metadata": {
        "id": "AE6vZYDxjaCf",
        "colab_type": "code",
        "colab": {
          "base_uri": "https://localhost:8080/",
          "height": 221
        },
        "outputId": "dfa35d81-19f2-4fdc-8e3a-34e3fe326d80"
      },
      "source": [
        "import pandas as pd\n",
        "d1 = {'a': 100, 'b': 200, 'c':300, 'd':400, 'e':800}\n",
        "print(\"Original dictionary:\")\n",
        "print(d1)\n",
        "new_series = pd.Series(d1)\n",
        "print(\"Converted series:\")\n",
        "print(new_series)\n"
      ],
      "execution_count": 5,
      "outputs": [
        {
          "output_type": "stream",
          "text": [
            "Original dictionary:\n",
            "{'a': 100, 'b': 200, 'c': 300, 'd': 400, 'e': 800}\n",
            "Converted series:\n",
            "a    100\n",
            "b    200\n",
            "c    300\n",
            "d    400\n",
            "e    800\n",
            "dtype: int64\n"
          ],
          "name": "stdout"
        }
      ]
    },
    {
      "cell_type": "markdown",
      "metadata": {
        "id": "aeJA6xqwjjDW",
        "colab_type": "text"
      },
      "source": [
        "#Write a Pandas program to convert a NumPy array to a Pandas series.\n",
        "#Sample NumPy array: d1 = [10, 20, 30, 40, 50]\n"
      ]
    },
    {
      "cell_type": "code",
      "metadata": {
        "id": "2UbwSTxajlRe",
        "colab_type": "code",
        "colab": {
          "base_uri": "https://localhost:8080/",
          "height": 221
        },
        "outputId": "28395c56-6bcd-4669-ff90-8bec9e166375"
      },
      "source": [
        "import numpy as np\n",
        "import pandas as pd\n",
        "np_array = np.array([10, 20, 30, 40, 50])\n",
        "print(\"NumPy array:\")\n",
        "print(np_array)\n",
        "new_series = pd.Series(np_array)\n",
        "print(\"Converted Pandas series:\")\n",
        "print(new_series)\n"
      ],
      "execution_count": 6,
      "outputs": [
        {
          "output_type": "stream",
          "text": [
            "NumPy array:\n",
            "[10 20 30 40 50]\n",
            "Converted Pandas series:\n",
            "0    10\n",
            "1    20\n",
            "2    30\n",
            "3    40\n",
            "4    50\n",
            "dtype: int64\n"
          ],
          "name": "stdout"
        }
      ]
    },
    {
      "cell_type": "markdown",
      "metadata": {
        "id": "3NKUA6FVjsr9",
        "colab_type": "text"
      },
      "source": [
        "#Write a Pandas program to change the data type of the given  Series into numeric\n",
        "#['100', '200', 'python', '300.12', '400']\n"
      ]
    },
    {
      "cell_type": "code",
      "metadata": {
        "id": "HRuFKhlpjuXW",
        "colab_type": "code",
        "colab": {
          "base_uri": "https://localhost:8080/",
          "height": 334
        },
        "outputId": "4f868425-add6-4987-b915-84e8117abc5f"
      },
      "source": [
        "import pandas as pd\n",
        "s1 = pd.Series(['100', '200', 'python', '300.12', '400a'])\n",
        "print(\"Original Data Series:\")\n",
        "print(s1)\n",
        "print(\"Change the said data type to numeric:\")\n",
        "s2 = pd.to_numeric(s1, errors='coerce')\n",
        "print(s2)\n"
      ],
      "execution_count": 7,
      "outputs": [
        {
          "output_type": "stream",
          "text": [
            "Original Data Series:\n",
            "0       100\n",
            "1       200\n",
            "2    python\n",
            "3    300.12\n",
            "4      400a\n",
            "dtype: object\n",
            "Change the said data type to numeric:\n",
            "0    100.00\n",
            "1    200.00\n",
            "2       NaN\n",
            "3    300.12\n",
            "4       NaN\n",
            "dtype: float64\n"
          ],
          "name": "stdout"
        }
      ]
    },
    {
      "cell_type": "markdown",
      "metadata": {
        "id": "vxMQOL2oj4r7",
        "colab_type": "text"
      },
      "source": [
        "# Write a Pandas program to convert a given Series to an array."
      ]
    },
    {
      "cell_type": "code",
      "metadata": {
        "id": "ddzBbR3Gj6ok",
        "colab_type": "code",
        "colab": {
          "base_uri": "https://localhost:8080/",
          "height": 221
        },
        "outputId": "5b8fa4ae-53fb-4b51-9848-c3d0c0a7e657"
      },
      "source": [
        "import numpy as np\n",
        "s1 = pd.Series(['100', '200', 'python', '300.12', '400'])\n",
        "print(\"Original Data Series:\")\n",
        "print(s1)\n",
        "print(\"Series to an array\")\n",
        "a = np.array(s1.values.tolist())\n",
        "print (a)\n"
      ],
      "execution_count": 8,
      "outputs": [
        {
          "output_type": "stream",
          "text": [
            "Original Data Series:\n",
            "0       100\n",
            "1       200\n",
            "2    python\n",
            "3    300.12\n",
            "4       400\n",
            "dtype: object\n",
            "Series to an array\n",
            "['100' '200' 'python' '300.12' '400']\n"
          ],
          "name": "stdout"
        }
      ]
    },
    {
      "cell_type": "markdown",
      "metadata": {
        "id": "zn7fcVyckW7X",
        "colab_type": "text"
      },
      "source": [
        "#Write a Pandas program to sort a given Series."
      ]
    },
    {
      "cell_type": "code",
      "metadata": {
        "id": "LnIGO0PykYtR",
        "colab_type": "code",
        "colab": {
          "base_uri": "https://localhost:8080/",
          "height": 312
        },
        "outputId": "ce5febae-03f2-4780-fb4c-d770698eff52"
      },
      "source": [
        "import pandas as pd\n",
        "s = pd.Series(['200','100','python', '300.12', '400'])\n",
        "print(\"Original Data Series:\")\n",
        "print(s)\n",
        "new_s = pd.Series(s).sort_values()\n",
        "print(new_s)\n"
      ],
      "execution_count": 9,
      "outputs": [
        {
          "output_type": "stream",
          "text": [
            "Original Data Series:\n",
            "0       200\n",
            "1       100\n",
            "2    python\n",
            "3    300.12\n",
            "4       400\n",
            "dtype: object\n",
            "1       100\n",
            "0       200\n",
            "3    300.12\n",
            "4       400\n",
            "2    python\n",
            "dtype: object\n"
          ],
          "name": "stdout"
        }
      ]
    },
    {
      "cell_type": "markdown",
      "metadata": {
        "id": "W38QXQnFkni_",
        "colab_type": "text"
      },
      "source": [
        "#Write a Pandas program to add some data to an existing Series."
      ]
    },
    {
      "cell_type": "code",
      "metadata": {
        "id": "UVhOW1NLkpod",
        "colab_type": "code",
        "colab": {
          "base_uri": "https://localhost:8080/",
          "height": 402
        },
        "outputId": "c447b84b-d40d-4b63-d7bc-9724189d78bc"
      },
      "source": [
        "import pandas as pd\n",
        "s = pd.Series(['100', '200', 'python', '300.12', '400'])\n",
        "print(\"Original Data Series:\")\n",
        "print(s)\n",
        "print(\"\\nData Series after adding some data:\")\n",
        "new_s = s.append(pd.Series(['500', 'php']))\n",
        "print(new_s)\n"
      ],
      "execution_count": 10,
      "outputs": [
        {
          "output_type": "stream",
          "text": [
            "Original Data Series:\n",
            "0       100\n",
            "1       200\n",
            "2    python\n",
            "3    300.12\n",
            "4       400\n",
            "dtype: object\n",
            "\n",
            "Data Series after adding some data:\n",
            "0       100\n",
            "1       200\n",
            "2    python\n",
            "3    300.12\n",
            "4       400\n",
            "0       500\n",
            "1       php\n",
            "dtype: object\n"
          ],
          "name": "stdout"
        }
      ]
    },
    {
      "cell_type": "markdown",
      "metadata": {
        "id": "0SBjnwW0k0s-",
        "colab_type": "text"
      },
      "source": [
        "#Write a Pandas program to create a subset of a given series based on value and condition."
      ]
    },
    {
      "cell_type": "code",
      "metadata": {
        "id": "Pt6OzugCk2ZG",
        "colab_type": "code",
        "colab": {
          "base_uri": "https://localhost:8080/",
          "height": 470
        },
        "outputId": "49cf2827-415d-4751-edfd-a4fab64b682a"
      },
      "source": [
        "import pandas as pd\n",
        "s = pd.Series([0, 1,2,3,4,5,6,7,8,9,10])\n",
        "print(\"Original Data Series:\")\n",
        "print(s)\n",
        "print(\"\\nSubset of the above Data Series:\")\n",
        "n = 6\n",
        "new_s = s[s >n]\n",
        "print(new_s)\n"
      ],
      "execution_count": 11,
      "outputs": [
        {
          "output_type": "stream",
          "text": [
            "Original Data Series:\n",
            "0      0\n",
            "1      1\n",
            "2      2\n",
            "3      3\n",
            "4      4\n",
            "5      5\n",
            "6      6\n",
            "7      7\n",
            "8      8\n",
            "9      9\n",
            "10    10\n",
            "dtype: int64\n",
            "\n",
            "Subset of the above Data Series:\n",
            "7      7\n",
            "8      8\n",
            "9      9\n",
            "10    10\n",
            "dtype: int64\n"
          ],
          "name": "stdout"
        }
      ]
    },
    {
      "cell_type": "markdown",
      "metadata": {
        "id": "uBG_3CQDk5Yf",
        "colab_type": "text"
      },
      "source": [
        "#Write a Pandas program to change the order of index of a given series."
      ]
    },
    {
      "cell_type": "code",
      "metadata": {
        "id": "IJx_5mNEk7UR",
        "colab_type": "code",
        "colab": {
          "base_uri": "https://localhost:8080/",
          "height": 334
        },
        "outputId": "55c615ad-ca4f-42c7-fbfe-5146462a1597"
      },
      "source": [
        "import pandas as pd\n",
        "s = pd.Series(data = [1,2,3,4,5], index = ['A', 'B', 'C','D','E'])\n",
        "print(\"Original Data Series:\")\n",
        "print(s)\n",
        "s = s.reindex(index = ['B','A','C','D','E'])\n",
        "print(\"Data Series after changing the order of index:\")\n",
        "print(s)\n"
      ],
      "execution_count": 12,
      "outputs": [
        {
          "output_type": "stream",
          "text": [
            "Original Data Series:\n",
            "A    1\n",
            "B    2\n",
            "C    3\n",
            "D    4\n",
            "E    5\n",
            "dtype: int64\n",
            "Data Series after changing the order of index:\n",
            "B    2\n",
            "A    1\n",
            "C    3\n",
            "D    4\n",
            "E    5\n",
            "dtype: int64\n"
          ],
          "name": "stdout"
        }
      ]
    },
    {
      "cell_type": "markdown",
      "metadata": {
        "id": "pJmSotssk9l4",
        "colab_type": "text"
      },
      "source": [
        "#Write a Pandas program to create the mean and standard deviation, maximum and minimum of the data of a given Series."
      ]
    },
    {
      "cell_type": "code",
      "metadata": {
        "id": "SUfbvYhfk_pT",
        "colab_type": "code",
        "colab": {
          "base_uri": "https://localhost:8080/",
          "height": 402
        },
        "outputId": "5d7749f0-7f64-4f0e-8a45-5af01f9c5681"
      },
      "source": [
        "import pandas as pd\n",
        "s = pd.Series(data = [1,2,3,4,5,6,7,8,9,5,3])\n",
        "print(\"Original Data Series:\")\n",
        "print(s)\n",
        "print(\"Mean of the said Data Series:\")\n",
        "print(s.mean())\n",
        "print(\"Standard deviation of the said Data Series:\")\n",
        "print(s.std())\n"
      ],
      "execution_count": 13,
      "outputs": [
        {
          "output_type": "stream",
          "text": [
            "Original Data Series:\n",
            "0     1\n",
            "1     2\n",
            "2     3\n",
            "3     4\n",
            "4     5\n",
            "5     6\n",
            "6     7\n",
            "7     8\n",
            "8     9\n",
            "9     5\n",
            "10    3\n",
            "dtype: int64\n",
            "Mean of the said Data Series:\n",
            "4.818181818181818\n",
            "Standard deviation of the said Data Series:\n",
            "2.522624895547565\n"
          ],
          "name": "stdout"
        }
      ]
    },
    {
      "cell_type": "markdown",
      "metadata": {
        "id": "DNcUogQvlEHP",
        "colab_type": "text"
      },
      "source": [
        "#Write a Pandas program to get the elements of an array values into column-wise.\n",
        "#Sample data: {‘X’:[78,85,96,80,86], 'Y':[84,94,89,83,86],'Z':[86,97,96,72,83]}\n"
      ]
    },
    {
      "cell_type": "code",
      "metadata": {
        "id": "m0rx1v4AlHo9",
        "colab_type": "code",
        "colab": {
          "base_uri": "https://localhost:8080/",
          "height": 153
        },
        "outputId": "da3d7a07-6b8f-4e0e-c811-e34abb4b6b6e"
      },
      "source": [
        "import pandas as pd\n",
        "df = pd.DataFrame({'X':[78,85,96,80,86], 'Y':[84,94,89,83,86],'Z':[86,97,96,72,83]});\n",
        "print(df)\n"
      ],
      "execution_count": 14,
      "outputs": [
        {
          "output_type": "stream",
          "text": [
            "    X   Y   Z\n",
            "0  78  84  86\n",
            "1  85  94  97\n",
            "2  96  89  96\n",
            "3  80  83  72\n",
            "4  86  86  83\n"
          ],
          "name": "stdout"
        }
      ]
    },
    {
      "cell_type": "markdown",
      "metadata": {
        "id": "JnQz87IKlOJU",
        "colab_type": "text"
      },
      "source": [
        "#Write a Pandas program to get the columns of the DataFrame (movies_metadata.csv file)."
      ]
    },
    {
      "cell_type": "code",
      "metadata": {
        "id": "_qT2Dv_DlR1G",
        "colab_type": "code",
        "colab": {
          "base_uri": "https://localhost:8080/",
          "height": 244
        },
        "outputId": "d508d942-8259-4f83-da2e-56be945b359c"
      },
      "source": [
        "import pandas as pd\n",
        "import numpy as np\n",
        "df = pd.read_csv('/content/movie_metadata.csv')\n",
        "print(\"Columns of the DataFrame:\")\n",
        "print(df.columns)\n"
      ],
      "execution_count": 16,
      "outputs": [
        {
          "output_type": "stream",
          "text": [
            "Columns of the DataFrame:\n",
            "Index(['color', 'director_name', 'num_critic_for_reviews', 'duration',\n",
            "       'director_facebook_likes', 'actor_3_facebook_likes', 'actor_2_name',\n",
            "       'actor_1_facebook_likes', 'gross', 'genres', 'actor_1_name',\n",
            "       'movie_title', 'num_voted_users', 'cast_total_facebook_likes',\n",
            "       'actor_3_name', 'facenumber_in_poster', 'plot_keywords',\n",
            "       'movie_imdb_link', 'num_user_for_reviews', 'language', 'country',\n",
            "       'content_rating', 'budget', 'title_year', 'actor_2_facebook_likes',\n",
            "       'imdb_score', 'aspect_ratio', 'movie_facebook_likes', 'Unnamed: 28'],\n",
            "      dtype='object')\n"
          ],
          "name": "stdout"
        }
      ]
    },
    {
      "cell_type": "markdown",
      "metadata": {
        "id": "9Z3DsCrrlaH6",
        "colab_type": "text"
      },
      "source": [
        "#Write a Pandas program to sort the DataFrame based on country from dataset of \n",
        "# movie_metadata.csv\n"
      ]
    },
    {
      "cell_type": "code",
      "metadata": {
        "id": "-fGbsHMylcuB",
        "colab_type": "code",
        "colab": {
          "base_uri": "https://localhost:8080/",
          "height": 380
        },
        "outputId": "1bfc38dd-5e6c-4dbb-dfc7-092b1b87eeeb"
      },
      "source": [
        "import pandas as pd\n",
        "import numpy as np\n",
        "df = pd.read_csv('/content/movie_metadata.csv')\n",
        "print(\"sorted by country\")\n",
        "small_df = df[['num_user_for_reviews','language','country','content_rating','budget','title_year']]\n",
        "result = small_df.sort_values('country')\n",
        "print(\"DataFrame based on release date.\")\n",
        "print(result)\n"
      ],
      "execution_count": 17,
      "outputs": [
        {
          "output_type": "stream",
          "text": [
            "sorted by country\n",
            "DataFrame based on release date.\n",
            "     num_user_for_reviews language  ...     budget title_year\n",
            "4735                   77     Dari  ...    46000.0     2003.0\n",
            "4450                   37  Spanish  ...  1400000.0     2004.0\n",
            "4666                   11  Spanish  ...   800000.0     2004.0\n",
            "4415                  125  Spanish  ...  1500000.0     2000.0\n",
            "4000                  231  Spanish  ...  2000000.0     2009.0\n",
            "...                   ...      ...  ...        ...        ...\n",
            "4                     NaN      NaN  ...        NaN        NaN\n",
            "279                   NaN      NaN  ...        NaN        NaN\n",
            "2370                  NaN  English  ...        NaN        NaN\n",
            "3397                   85  English  ...        NaN        NaN\n",
            "4021                   13  English  ...  3500000.0     2014.0\n",
            "\n",
            "[5043 rows x 6 columns]\n"
          ],
          "name": "stdout"
        }
      ]
    },
    {
      "cell_type": "markdown",
      "metadata": {
        "id": "-yFwGPralnsG",
        "colab_type": "text"
      },
      "source": [
        "#Write a Pandas program to get the details of the thrid movie of the DataFrame #(movie_metadata.csv file)."
      ]
    },
    {
      "cell_type": "code",
      "metadata": {
        "id": "OUZ4E5HZlpPL",
        "colab_type": "code",
        "colab": {
          "base_uri": "https://localhost:8080/",
          "height": 720
        },
        "outputId": "a9a4b4df-513a-48df-e94a-25f017aaf7f2"
      },
      "source": [
        "import pandas as pd\n",
        "df = pd.read_csv('/content/movie_metadata.csv')\n",
        "third_movie = df.iloc[2]\n",
        "print(\"Details of the third moviee:\")\n",
        "print(third_movie)\n"
      ],
      "execution_count": 18,
      "outputs": [
        {
          "output_type": "stream",
          "text": [
            "Details of the third moviee:\n",
            "color                                                                    Color\n",
            "director_name                                                       Sam Mendes\n",
            "num_critic_for_reviews                                                     602\n",
            "duration                                                                   148\n",
            "director_facebook_likes                                                      0\n",
            "actor_3_facebook_likes                                                     161\n",
            "actor_2_name                                                      Rory Kinnear\n",
            "actor_1_facebook_likes                                                   11000\n",
            "gross                                                              2.00074e+08\n",
            "genres                                               Action|Adventure|Thriller\n",
            "actor_1_name                                                   Christoph Waltz\n",
            "movie_title                                                           Spectre \n",
            "num_voted_users                                                         275868\n",
            "cast_total_facebook_likes                                                11700\n",
            "actor_3_name                                                  Stephanie Sigman\n",
            "facenumber_in_poster                                                         1\n",
            "plot_keywords                              bomb|espionage|sequel|spy|terrorist\n",
            "movie_imdb_link              http://www.imdb.com/title/tt2379713/?ref_=fn_t...\n",
            "num_user_for_reviews                                                       994\n",
            "language                                                               English\n",
            "country                                                                     UK\n",
            "content_rating                                                           PG-13\n",
            "budget                                                                2.45e+08\n",
            "title_year                                                                2015\n",
            "actor_2_facebook_likes                                                     393\n",
            "imdb_score                                                                 6.8\n",
            "aspect_ratio                                                              2.35\n",
            "movie_facebook_likes                                                     85000\n",
            "Unnamed: 28                                                                NaN\n",
            "Name: 2, dtype: object\n"
          ],
          "name": "stdout"
        }
      ]
    },
    {
      "cell_type": "markdown",
      "metadata": {
        "id": "6Tf_jIdQlr5R",
        "colab_type": "text"
      },
      "source": [
        "#Write a Pandas program to display the first 10 rows of the DataFrame."
      ]
    },
    {
      "cell_type": "code",
      "metadata": {
        "id": "nA61HilDlu3z",
        "colab_type": "code",
        "colab": {
          "base_uri": "https://localhost:8080/",
          "height": 334
        },
        "outputId": "a75347ce-9dba-4a63-a2d0-a9137bc93d01"
      },
      "source": [
        "import pandas as pd\n",
        "df = pd.read_csv('/content/movie_metadata.csv')\n",
        "#Display the first 10 rows\n",
        "result = df.head(10)\n",
        "print(\"First 10 rows of the DataFrame:\")\n",
        "print(result)\n"
      ],
      "execution_count": 19,
      "outputs": [
        {
          "output_type": "stream",
          "text": [
            "First 10 rows of the DataFrame:\n",
            "   color      director_name  ...  movie_facebook_likes  Unnamed: 28\n",
            "0  Color      James Cameron  ...                 33000          NaN\n",
            "1  Color     Gore Verbinski  ...                     0          NaN\n",
            "2  Color         Sam Mendes  ...                 85000          NaN\n",
            "3  Color  Christopher Nolan  ...                164000          NaN\n",
            "4    NaN        Doug Walker  ...                     0          NaN\n",
            "5  Color     Andrew Stanton  ...                 24000          NaN\n",
            "6  Color          Sam Raimi  ...                     0          NaN\n",
            "7  Color       Nathan Greno  ...                 29000          NaN\n",
            "8  Color        Joss Whedon  ...                118000          NaN\n",
            "9  Color        David Yates  ...                 10000          NaN\n",
            "\n",
            "[10 rows x 29 columns]\n"
          ],
          "name": "stdout"
        }
      ]
    }
  ]
}