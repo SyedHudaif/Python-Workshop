{
  "nbformat": 4,
  "nbformat_minor": 0,
  "metadata": {
    "colab": {
      "name": "Day3_Session2_NumpyExamples",
      "provenance": [],
      "collapsed_sections": [],
      "include_colab_link": true
    },
    "kernelspec": {
      "name": "python3",
      "display_name": "Python 3"
    }
  },
  "cells": [
    {
      "cell_type": "markdown",
      "metadata": {
        "id": "view-in-github",
        "colab_type": "text"
      },
      "source": [
        "<a href=\"https://colab.research.google.com/github/SyedHudaif/Python-Workshop/blob/master/Day3_Session2_NumpyExamples.ipynb\" target=\"_parent\"><img src=\"https://colab.research.google.com/assets/colab-badge.svg\" alt=\"Open In Colab\"/></a>"
      ]
    },
    {
      "cell_type": "markdown",
      "metadata": {
        "id": "DawlLobamB9q",
        "colab_type": "text"
      },
      "source": [
        "#Write a NumPy program to generate five random numbers from the normal distribution."
      ]
    },
    {
      "cell_type": "code",
      "metadata": {
        "id": "4tXYO0fKmD7n",
        "colab_type": "code",
        "colab": {
          "base_uri": "https://localhost:8080/",
          "height": 40
        },
        "outputId": "27bf10ed-06d0-4320-f116-c0cff37f72d9"
      },
      "source": [
        "import numpy as np\n",
        "x = np.random.normal(size=5)\n",
        "print(x)\n"
      ],
      "execution_count": 1,
      "outputs": [
        {
          "output_type": "stream",
          "text": [
            "[ 0.18145459  0.79936142 -0.21170271  0.15849928 -0.34056183]\n"
          ],
          "name": "stdout"
        }
      ]
    },
    {
      "cell_type": "markdown",
      "metadata": {
        "id": "3Nfk7EB0mHh3",
        "colab_type": "text"
      },
      "source": [
        "#Write a NumPy program to generate six random integers between 10 and 30"
      ]
    },
    {
      "cell_type": "code",
      "metadata": {
        "id": "WkThsGG7mIpv",
        "colab_type": "code",
        "colab": {
          "base_uri": "https://localhost:8080/",
          "height": 40
        },
        "outputId": "4d08ffc2-02ec-487f-c30a-1435fccea671"
      },
      "source": [
        "import numpy as np\n",
        "x = np.random.randint(low=10, high=30, size=6)\n",
        "print(x)\n"
      ],
      "execution_count": 2,
      "outputs": [
        {
          "output_type": "stream",
          "text": [
            "[11 25 15 27 12 22]\n"
          ],
          "name": "stdout"
        }
      ]
    },
    {
      "cell_type": "markdown",
      "metadata": {
        "id": "aJFjqoQdmK9r",
        "colab_type": "text"
      },
      "source": [
        "#Write a NumPy program to create a 3x3x3 array with random values."
      ]
    },
    {
      "cell_type": "code",
      "metadata": {
        "id": "xjEsXYJFmMNg",
        "colab_type": "code",
        "colab": {
          "base_uri": "https://localhost:8080/",
          "height": 266
        },
        "outputId": "bbf32e23-bbf1-4ade-8b25-e8a0ecae894e"
      },
      "source": [
        "import numpy as np\n",
        "x = np.random.random((3,3,3))\n",
        "print(x)\n"
      ],
      "execution_count": 3,
      "outputs": [
        {
          "output_type": "stream",
          "text": [
            "[[[0.08700053 0.78514291 0.89984407]\n",
            "  [0.39274103 0.22734818 0.89551155]\n",
            "  [0.43728296 0.1493896  0.03330599]]\n",
            "\n",
            " [[0.31077447 0.8690588  0.30168375]\n",
            "  [0.0250047  0.72942599 0.13615814]\n",
            "  [0.5242799  0.05974637 0.20283819]]\n",
            "\n",
            " [[0.77179394 0.81819694 0.77156163]\n",
            "  [0.65803564 0.33716993 0.24342343]\n",
            "  [0.86713976 0.95501997 0.53578656]]]\n"
          ],
          "name": "stdout"
        }
      ]
    },
    {
      "cell_type": "markdown",
      "metadata": {
        "id": "ztcbxArImOh9",
        "colab_type": "text"
      },
      "source": [
        "#Write a NumPy program to create a 5x5 array with random values and find the minimum #and maximum values."
      ]
    },
    {
      "cell_type": "code",
      "metadata": {
        "id": "ZOtZtfx0mQQL",
        "colab_type": "code",
        "colab": {
          "base_uri": "https://localhost:8080/",
          "height": 198
        },
        "outputId": "64e0c475-4966-4ae2-d219-c387ffe3994a"
      },
      "source": [
        "import numpy as np\n",
        "x = np.random.random((5,5))\n",
        "print(\"Original Array:\")\n",
        "print(x) \n",
        "xmin, xmax = x.min(), x.max()\n",
        "print(\"Minimum and Maximum Values:\")\n",
        "print(xmin, xmax)\n"
      ],
      "execution_count": 4,
      "outputs": [
        {
          "output_type": "stream",
          "text": [
            "Original Array:\n",
            "[[0.25819538 0.1337778  0.60333716 0.59517199 0.54521973]\n",
            " [0.81110134 0.68164378 0.92696581 0.1922512  0.73301269]\n",
            " [0.78758206 0.57447474 0.94698687 0.88290667 0.16767579]\n",
            " [0.10689435 0.38755004 0.47999747 0.88393791 0.61563652]\n",
            " [0.24147903 0.64512072 0.96109058 0.13911451 0.52272665]]\n",
            "Minimum and Maximum Values:\n",
            "0.10689435080972742 0.9610905831419387\n"
          ],
          "name": "stdout"
        }
      ]
    },
    {
      "cell_type": "markdown",
      "metadata": {
        "id": "zhK2M4jymSiU",
        "colab_type": "text"
      },
      "source": [
        "#Write a NumPy program to create a random 10x4 array and extract the first five rows of the array and store them into a variable."
      ]
    },
    {
      "cell_type": "code",
      "metadata": {
        "id": "pXBsQchdmXai",
        "colab_type": "code",
        "colab": {
          "base_uri": "https://localhost:8080/",
          "height": 652
        },
        "outputId": "7237b3fc-6e42-4d8d-d483-6887fad64d8c"
      },
      "source": [
        "import numpy as np\n",
        "x = np.random.rand(10, 4)\n",
        "print(\"Original array: \")\n",
        "print(x)\n",
        "y= x[:5, :]\n",
        "print(\"First 5 rows of the above array:\")\n",
        "y= x[:5, :]\n",
        "print(y)\n",
        "z= x[:, :4]\n",
        "print(\"First 3 columns of the above array:\")\n",
        "print(z)\n"
      ],
      "execution_count": 5,
      "outputs": [
        {
          "output_type": "stream",
          "text": [
            "Original array: \n",
            "[[0.13135753 0.64142637 0.78406074 0.14758573]\n",
            " [0.40271978 0.87662831 0.19005549 0.19612686]\n",
            " [0.09415056 0.47944954 0.10143001 0.1048474 ]\n",
            " [0.79297422 0.49456397 0.43541322 0.92509878]\n",
            " [0.91514014 0.1347056  0.99581511 0.652401  ]\n",
            " [0.25305186 0.6896164  0.63046458 0.19756944]\n",
            " [0.01726856 0.91885799 0.26206704 0.73605944]\n",
            " [0.11952947 0.13525522 0.12650019 0.46936515]\n",
            " [0.46733776 0.4122252  0.34337756 0.88387335]\n",
            " [0.94961731 0.36735495 0.6218434  0.24282281]]\n",
            "First 5 rows of the above array:\n",
            "[[0.13135753 0.64142637 0.78406074 0.14758573]\n",
            " [0.40271978 0.87662831 0.19005549 0.19612686]\n",
            " [0.09415056 0.47944954 0.10143001 0.1048474 ]\n",
            " [0.79297422 0.49456397 0.43541322 0.92509878]\n",
            " [0.91514014 0.1347056  0.99581511 0.652401  ]]\n",
            "First 3 columns of the above array:\n",
            "[[0.13135753 0.64142637 0.78406074 0.14758573]\n",
            " [0.40271978 0.87662831 0.19005549 0.19612686]\n",
            " [0.09415056 0.47944954 0.10143001 0.1048474 ]\n",
            " [0.79297422 0.49456397 0.43541322 0.92509878]\n",
            " [0.91514014 0.1347056  0.99581511 0.652401  ]\n",
            " [0.25305186 0.6896164  0.63046458 0.19756944]\n",
            " [0.01726856 0.91885799 0.26206704 0.73605944]\n",
            " [0.11952947 0.13525522 0.12650019 0.46936515]\n",
            " [0.46733776 0.4122252  0.34337756 0.88387335]\n",
            " [0.94961731 0.36735495 0.6218434  0.24282281]]\n"
          ],
          "name": "stdout"
        }
      ]
    },
    {
      "cell_type": "markdown",
      "metadata": {
        "id": "Uex12SZrmaPp",
        "colab_type": "text"
      },
      "source": [
        "#Write a NumPy program to shuffle numbers and find permutation  between 0 and 10 #(inclusive)."
      ]
    },
    {
      "cell_type": "code",
      "metadata": {
        "id": "2VK9_5uGmbmW",
        "colab_type": "code",
        "colab": {
          "base_uri": "https://localhost:8080/",
          "height": 85
        },
        "outputId": "9aa5f407-f36e-4676-ebe8-d038a2025152"
      },
      "source": [
        "import numpy as np\n",
        "x = np.arange(10)\n",
        "np.random.shuffle(x)\n",
        "print(x)\n",
        "print(\"Same result using permutation():\")\n",
        "print(np.random.permutation(10))\n"
      ],
      "execution_count": 6,
      "outputs": [
        {
          "output_type": "stream",
          "text": [
            "[9 6 5 1 2 8 7 4 0 3]\n",
            "Same result using permutation():\n",
            "[9 6 7 5 4 0 8 1 3 2]\n"
          ],
          "name": "stdout"
        }
      ]
    },
    {
      "cell_type": "markdown",
      "metadata": {
        "id": "jmRyhUVTmdvO",
        "colab_type": "text"
      },
      "source": [
        "#Write a NumPy program to create a random integer nos of size 10 and sort it."
      ]
    },
    {
      "cell_type": "code",
      "metadata": {
        "id": "LqNyG_X3mfQW",
        "colab_type": "code",
        "colab": {
          "base_uri": "https://localhost:8080/",
          "height": 40
        },
        "outputId": "e1b1c9ee-7f5d-40f8-acd6-297d66515dea"
      },
      "source": [
        "import numpy as np\n",
        "x=np.arange(10)\n",
        "np.random.randint(1, size=x)\n",
        "print (x)\n"
      ],
      "execution_count": 7,
      "outputs": [
        {
          "output_type": "stream",
          "text": [
            "[0 1 2 3 4 5 6 7 8 9]\n"
          ],
          "name": "stdout"
        }
      ]
    },
    {
      "cell_type": "markdown",
      "metadata": {
        "id": "_U7Z-H4emxzJ",
        "colab_type": "text"
      },
      "source": [
        "#Write a NumPy program to create a random integer nos of size 10 and sort it."
      ]
    },
    {
      "cell_type": "code",
      "metadata": {
        "id": "pIJHZUSRmzOh",
        "colab_type": "code",
        "colab": {
          "base_uri": "https://localhost:8080/",
          "height": 62
        },
        "outputId": "517a3604-10ae-481e-aecc-d8356442aa9f"
      },
      "source": [
        "import numpy as np\n",
        "x=np.arange(10)\n",
        "np.random.shuffle(x)\n",
        "print(x)\n",
        "x.sort()\n",
        "print(x)\n"
      ],
      "execution_count": 8,
      "outputs": [
        {
          "output_type": "stream",
          "text": [
            "[8 1 5 0 3 4 6 9 2 7]\n",
            "[0 1 2 3 4 5 6 7 8 9]\n"
          ],
          "name": "stdout"
        }
      ]
    }
  ]
}